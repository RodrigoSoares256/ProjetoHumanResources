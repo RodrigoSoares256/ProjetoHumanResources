{
 "cells": [
  {
   "cell_type": "code",
   "execution_count": null,
   "id": "fbc4422d",
   "metadata": {},
   "outputs": [],
   "source": [
    "import numpy as np\n",
    "import pandas as pd\n",
    "from joblib import load\n",
    "from sklearn.ensemble import RandomForestClassifier\n",
    "import json"
   ]
  },
  {
   "cell_type": "code",
   "execution_count": null,
   "id": "a1c2de24",
   "metadata": {
    "scrolled": true
   },
   "outputs": [],
   "source": [
    "from platform import python_version\n",
    "python_version()"
   ]
  },
  {
   "cell_type": "code",
   "execution_count": null,
   "id": "25917798",
   "metadata": {},
   "outputs": [],
   "source": [
    "dfEmployee = pd.read_csv(\"data/employee_survey_data.csv\")\n",
    "dfGeneral = pd.read_csv(\"data/general_data.csv\")\n",
    "dfManagerData = pd.read_csv(\"data/manager_survey_data.csv\")"
   ]
  },
  {
   "cell_type": "code",
   "execution_count": null,
   "id": "adb800b1",
   "metadata": {},
   "outputs": [],
   "source": [
    "df = pd.merge(dfEmployee,dfGeneral, on= \"EmployeeID\", how = \"inner\")\n",
    "dfTotal = pd.merge(df, dfManagerData, on = \"EmployeeID\", how = \"inner\")\n",
    "dfTotal.dropna(axis = 0,inplace=True)\n",
    "dfTotal.drop(\"EmployeeID\", axis = 1, inplace=True)\n",
    "dfTotal.drop([\"Over18\", \"JobInvolvement\",\"EmployeeCount\", \"StandardHours\"], axis=1, inplace=True)"
   ]
  },
  {
   "cell_type": "code",
   "execution_count": null,
   "id": "462e31ac",
   "metadata": {},
   "outputs": [],
   "source": [
    "def changeAttrition(option):\n",
    "    if option == \"No\":\n",
    "        return 0\n",
    "    elif option == \"Yes\":\n",
    "        return 1\n",
    "\n",
    "def changeTravel(trav):\n",
    "    if trav == \"Travel_Rarely\":\n",
    "        return 0\n",
    "    elif trav == \"Travel_Frequently\":\n",
    "        return 1\n",
    "    elif trav == \"Non-Travel\":\n",
    "        return 2\n",
    "\n",
    "def changeDep(department):\n",
    "    if department == \"Sales\":\n",
    "        return 0 \n",
    "    elif department == \"Research & Development\":\n",
    "        return 1\n",
    "    elif department == \"Human Resources\":\n",
    "        return 2\n",
    "    \n",
    "def changestudyField(field):\n",
    "    if field == \"Life Sciences\":\n",
    "        return 0 \n",
    "    elif field == \"Other\":\n",
    "        return 1\n",
    "    elif field == \"Medical\":\n",
    "        return 2\n",
    "    elif field == \"Marketing\":\n",
    "        return 3\n",
    "    elif field == \"Technical Degree\":\n",
    "        return 4\n",
    "    elif field == \"Human Resources\":\n",
    "        return 5\n",
    "    \n",
    "def changeSex(sex):\n",
    "    if sex == \"Female\":\n",
    "        return 0 \n",
    "    elif sex == \"Male\":\n",
    "        return 1\n",
    "\n",
    "def changeFunction(func):\n",
    "    if func == \"Healthcare Representative\":\n",
    "        return 0 \n",
    "    elif func == \"Research Scientist\":\n",
    "        return 1\n",
    "    elif func == \"Sales Executive\":\n",
    "        return 2\n",
    "    elif func == \"Marketing\":\n",
    "        return 3\n",
    "    elif func == \"Human Resources\":\n",
    "        return 4\n",
    "    elif func == \"Research Director\":\n",
    "        return 5\n",
    "    elif func == \"Laboratory Technician\":\n",
    "        return 6\n",
    "    elif func == \"Manufacturing Director\":\n",
    "        return 7\n",
    "    elif func == \"Sales Representative\":\n",
    "        return 8\n",
    "    elif func == \"Manager\":\n",
    "        return 9\n",
    "\n",
    "def changeMarStatus(status):\n",
    "    if status == \"Married\":\n",
    "        return 0\n",
    "    elif status == \"Single\":\n",
    "        return 1\n",
    "    elif status == \"Divorced\":\n",
    "        return 2"
   ]
  },
  {
   "cell_type": "code",
   "execution_count": null,
   "id": "6f4862a5",
   "metadata": {},
   "outputs": [],
   "source": [
    "dfCat = dfTotal.select_dtypes(\"object\")\n",
    "dfCatChange = dfCat.copy()\n",
    "dfCatChange[\"AttritionNum\"] = dfCat.Attrition.map(changeAttrition)\n",
    "dfCatChange[\"TravelNum\"] = dfCat.BusinessTravel.map(changeTravel)\n",
    "dfCatChange[\"DepartmentNum\"] = dfCat.Department.map(changeDep)\n",
    "dfCatChange[\"EduFieldNum\"] = dfCat.EducationField.map(changestudyField)\n",
    "dfCatChange[\"genderNum\"] = dfCat.Gender.map(changeSex)\n",
    "dfCatChange[\"jobRoleNum\"] = dfCat.JobRole.map(changeFunction)\n",
    "dfCatChange['maritalStatusNum'] = dfCat.MaritalStatus.map(changeMarStatus)\n",
    "dfCatChange.drop(dfCat.columns.values, axis = 1, inplace=True)"
   ]
  },
  {
   "cell_type": "code",
   "execution_count": null,
   "id": "3f9bb82d",
   "metadata": {
    "scrolled": true
   },
   "outputs": [],
   "source": [
    "dfFinal = pd.concat([dfCatChange, dfTotal.drop(dfCat.columns.values, axis = 1)], axis = 1)\n",
    "dfFinal"
   ]
  },
  {
   "cell_type": "code",
   "execution_count": null,
   "id": "04263637",
   "metadata": {},
   "outputs": [],
   "source": [
    "modelRFSalvo = load(\"modelRFHR.joblib\")"
   ]
  },
  {
   "cell_type": "code",
   "execution_count": null,
   "id": "1dba99b1",
   "metadata": {
    "scrolled": true
   },
   "outputs": [],
   "source": [
    "from Libs import DataPrep"
   ]
  },
  {
   "cell_type": "code",
   "execution_count": null,
   "id": "0a38bf9f",
   "metadata": {
    "scrolled": false
   },
   "outputs": [],
   "source": [
    "dfFinal.head()"
   ]
  },
  {
   "cell_type": "code",
   "execution_count": null,
   "id": "df7c9442",
   "metadata": {},
   "outputs": [],
   "source": [
    "asd = pd.DataFrame(dfFinal.drop(\"AttritionNum\", axis = 1).loc[2]).T.to_json()"
   ]
  },
  {
   "cell_type": "code",
   "execution_count": null,
   "id": "a8cab315",
   "metadata": {
    "scrolled": true
   },
   "outputs": [],
   "source": [
    "asd"
   ]
  },
  {
   "cell_type": "code",
   "execution_count": null,
   "id": "a484e346",
   "metadata": {
    "scrolled": false
   },
   "outputs": [],
   "source": [
    "pd.read_json(asd)"
   ]
  },
  {
   "cell_type": "code",
   "execution_count": null,
   "id": "5861ff18",
   "metadata": {},
   "outputs": [],
   "source": [
    "DataPrep.loadModel(\"modelRFHR.joblib\")"
   ]
  },
  {
   "cell_type": "code",
   "execution_count": null,
   "id": "1a92ddb7",
   "metadata": {},
   "outputs": [],
   "source": [
    "variaveis = pd.read_json(asd)"
   ]
  },
  {
   "cell_type": "code",
   "execution_count": null,
   "id": "94740afc",
   "metadata": {},
   "outputs": [],
   "source": [
    "previsao = DataPrep.realizaPrevisao(variaveis)"
   ]
  },
  {
   "cell_type": "code",
   "execution_count": null,
   "id": "f4901a73",
   "metadata": {},
   "outputs": [],
   "source": [
    "previsao"
   ]
  }
 ],
 "metadata": {
  "kernelspec": {
   "display_name": "Python 3 (ipykernel)",
   "language": "python",
   "name": "python3"
  },
  "language_info": {
   "codemirror_mode": {
    "name": "ipython",
    "version": 3
   },
   "file_extension": ".py",
   "mimetype": "text/x-python",
   "name": "python",
   "nbconvert_exporter": "python",
   "pygments_lexer": "ipython3",
   "version": "3.9.7"
  }
 },
 "nbformat": 4,
 "nbformat_minor": 5
}
